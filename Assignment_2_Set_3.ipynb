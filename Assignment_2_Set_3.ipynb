{
 "cells": [
  {
   "cell_type": "code",
   "execution_count": 1,
   "id": "51b90a3c",
   "metadata": {},
   "outputs": [
    {
     "name": "stdout",
     "output_type": "stream",
     "text": [
      "z-scores :  -0.820782681668124\n",
      "p-value :  0.20588503245107104\n"
     ]
    }
   ],
   "source": [
    "import numpy as np  \n",
    "\n",
    "from scipy import stats  \n",
    "\n",
    "#Apply One-Sample One-Tail z-test  \n",
    "\n",
    "z_scores=(0.046-0.05)/(np.sqrt((0.05*(1-0.05))/2000))  \n",
    "\n",
    "print('z-scores : ' ,z_scores)  \n",
    "\n",
    "p_value=1-stats.norm.cdf(abs(z_scores))  \n",
    "\n",
    "print('p-value : ' ,p_value)"
   ]
  },
  {
   "cell_type": "code",
   "execution_count": null,
   "id": "59d41ba9",
   "metadata": {},
   "outputs": [],
   "source": []
  }
 ],
 "metadata": {
  "kernelspec": {
   "display_name": "Python 3 (ipykernel)",
   "language": "python",
   "name": "python3"
  },
  "language_info": {
   "codemirror_mode": {
    "name": "ipython",
    "version": 3
   },
   "file_extension": ".py",
   "mimetype": "text/x-python",
   "name": "python",
   "nbconvert_exporter": "python",
   "pygments_lexer": "ipython3",
   "version": "3.10.9"
  }
 },
 "nbformat": 4,
 "nbformat_minor": 5
}
